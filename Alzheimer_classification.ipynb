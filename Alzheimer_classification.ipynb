{
  "nbformat": 4,
  "nbformat_minor": 0,
  "metadata": {
    "colab": {
      "name": "CNN_Real Image.ipynb",
      "provenance": [],
      "collapsed_sections": [],
      "include_colab_link": true
    },
    "kernelspec": {
      "name": "python3",
      "display_name": "Python 3"
    },
    "accelerator": "GPU"
  },
  "cells": [
    {
      "cell_type": "markdown",
      "metadata": {
        "id": "view-in-github",
        "colab_type": "text"
      },
      "source": [
        "<a href=\"https://colab.research.google.com/github/HackthValley/MachineLearningModel/blob/main/Alzheimer_classification.ipynb\" target=\"_parent\"><img src=\"https://colab.research.google.com/assets/colab-badge.svg\" alt=\"Open In Colab\"/></a>"
      ]
    },
    {
      "cell_type": "markdown",
      "metadata": {
        "id": "ncMaLYViUelm"
      },
      "source": [
        "## Do remeber to see the course provided CNN folder for better comments and understanding"
      ]
    },
    {
      "cell_type": "code",
      "metadata": {
        "id": "2gnX_exgI8E_",
        "colab": {
          "base_uri": "https://localhost:8080/"
        },
        "outputId": "b8f3d244-80d5-4895-cf5a-53b46a3c5890"
      },
      "source": [
        "import os\n",
        "from google.colab import drive\n",
        "drive.mount('/content/drive')"
      ],
      "execution_count": null,
      "outputs": [
        {
          "output_type": "stream",
          "name": "stdout",
          "text": [
            "Drive already mounted at /content/drive; to attempt to forcibly remount, call drive.mount(\"/content/drive\", force_remount=True).\n"
          ]
        }
      ]
    },
    {
      "cell_type": "code",
      "metadata": {
        "id": "9lrOddUdI9FO"
      },
      "source": [
        "data_dir = \"/content/drive/My Drive/alzheimer_classification\""
      ],
      "execution_count": null,
      "outputs": []
    },
    {
      "cell_type": "code",
      "metadata": {
        "id": "MvaSxxajJG1Q",
        "colab": {
          "base_uri": "https://localhost:8080/"
        },
        "outputId": "839a91a9-9752-459c-c41e-ae991dca1844"
      },
      "source": [
        "os.listdir(data_dir)"
      ],
      "execution_count": null,
      "outputs": [
        {
          "output_type": "execute_result",
          "data": {
            "text/plain": [
              "['testing', 'training', 'new_model.h5']"
            ]
          },
          "metadata": {},
          "execution_count": 46
        }
      ]
    },
    {
      "cell_type": "code",
      "metadata": {
        "id": "Z7tqybt0JI-7"
      },
      "source": [
        "import pandas as pd\n",
        "import numpy as np\n",
        "import matplotlib.pyplot as plt\n",
        "import seaborn as sns\n",
        "from tensorflow import keras"
      ],
      "execution_count": null,
      "outputs": []
    },
    {
      "cell_type": "code",
      "metadata": {
        "id": "1ShUJxt-OZlJ"
      },
      "source": [
        "from matplotlib.image import imread"
      ],
      "execution_count": null,
      "outputs": []
    },
    {
      "cell_type": "code",
      "metadata": {
        "id": "TRZYhCZ1Ofj6"
      },
      "source": [
        "test_path = data_dir + '/testing/'\n",
        "train_path = data_dir + '/training/'"
      ],
      "execution_count": null,
      "outputs": []
    },
    {
      "cell_type": "code",
      "metadata": {
        "id": "TL2feutMOqSJ",
        "colab": {
          "base_uri": "https://localhost:8080/",
          "height": 35
        },
        "outputId": "58e1ba62-aeca-49af-bcdb-7d2a98f9d84e"
      },
      "source": [
        "test_path"
      ],
      "execution_count": null,
      "outputs": [
        {
          "output_type": "execute_result",
          "data": {
            "application/vnd.google.colaboratory.intrinsic+json": {
              "type": "string"
            },
            "text/plain": [
              "'/content/drive/My Drive/alzheimer_classification/testing/'"
            ]
          },
          "metadata": {},
          "execution_count": 50
        }
      ]
    },
    {
      "cell_type": "code",
      "metadata": {
        "id": "aprqcI2fOq-R",
        "colab": {
          "base_uri": "https://localhost:8080/"
        },
        "outputId": "a6479241-38ad-4e61-e283-e77e60da09f3"
      },
      "source": [
        "os.listdir(test_path)"
      ],
      "execution_count": null,
      "outputs": [
        {
          "output_type": "execute_result",
          "data": {
            "text/plain": [
              "['healthy', 'unhealthy']"
            ]
          },
          "metadata": {},
          "execution_count": 51
        }
      ]
    },
    {
      "cell_type": "code",
      "metadata": {
        "id": "yj-WLev4NN2w",
        "colab": {
          "base_uri": "https://localhost:8080/"
        },
        "outputId": "b5e95ace-43b3-47ad-a61e-9035446aa66f"
      },
      "source": [
        "os.listdir(train_path+'healthy')"
      ],
      "execution_count": 114,
      "outputs": [
        {
          "output_type": "execute_result",
          "data": {
            "text/plain": [
              "['healthy_24.jpeg',\n",
              " 'healthy_05.jpeg',\n",
              " 'healthy_19.jpeg',\n",
              " 'healthy_21.jpeg',\n",
              " 'healthy_18.jpeg',\n",
              " 'healthy_35.jpeg',\n",
              " 'healthy_22.jpeg',\n",
              " 'healthy_31.jpeg',\n",
              " 'healthy_33.jpeg',\n",
              " 'healthy_01.png',\n",
              " 'healthy_03.png',\n",
              " 'healthy_20.png',\n",
              " 'healthy_16.png',\n",
              " 'healthy_12.png',\n",
              " 'healthy_09.png',\n",
              " 'healthy_13.png',\n",
              " 'healthy_14.png',\n",
              " 'healthy_15.png',\n",
              " 'healthy_04.png',\n",
              " 'healthy_05.png',\n",
              " 'healthy_32.png',\n",
              " 'healthy_23.png',\n",
              " 'healthy_28.png',\n",
              " 'healthy_27.png',\n",
              " 'healthy_34.png',\n",
              " 'healthy_36.png',\n",
              " 'healthy_25.png',\n",
              " 'healthy_26.png',\n",
              " 'healthy_30.png',\n",
              " 'healthy_29.png',\n",
              " 'healthy_17.png',\n",
              " 'healthy_08.jpg',\n",
              " 'healthy_02.jpg',\n",
              " 'healthy_11.jpg',\n",
              " 'healthy_07.jpg',\n",
              " 'healthy_06.jpg']"
            ]
          },
          "metadata": {},
          "execution_count": 114
        }
      ]
    },
    {
      "cell_type": "code",
      "metadata": {
        "id": "F1yCqvhwISo7",
        "colab": {
          "base_uri": "https://localhost:8080/",
          "height": 35
        },
        "outputId": "11eb964d-6693-4fc0-a9f7-3fa3c999bfbc"
      },
      "source": [
        "para_cell = train_path+'/healthy/'+'healthy_07.jpg'\n",
        "para_cell"
      ],
      "execution_count": 117,
      "outputs": [
        {
          "output_type": "execute_result",
          "data": {
            "application/vnd.google.colaboratory.intrinsic+json": {
              "type": "string"
            },
            "text/plain": [
              "'/content/drive/My Drive/alzheimer_classification/training//healthy/healthy_07.jpg'"
            ]
          },
          "metadata": {},
          "execution_count": 117
        }
      ]
    },
    {
      "cell_type": "code",
      "metadata": {
        "id": "jN_4Tq54Ijex",
        "colab": {
          "base_uri": "https://localhost:8080/",
          "height": 286
        },
        "outputId": "d4d3ee58-ddcd-43f2-f091-d1d432951ab2"
      },
      "source": [
        "plt.imshow(imread(para_cell))"
      ],
      "execution_count": 118,
      "outputs": [
        {
          "output_type": "execute_result",
          "data": {
            "text/plain": [
              "<matplotlib.image.AxesImage at 0x7faaa03d97d0>"
            ]
          },
          "metadata": {},
          "execution_count": 118
        },
        {
          "output_type": "display_data",
          "data": {
            "image/png": "[encoded data removed]",
            "text/plain": [
              "<Figure size 432x288 with 1 Axes>"
            ]
          },
          "metadata": {
            "needs_background": "light"
          }
        }
      ]
    },
    {
      "cell_type": "markdown",
      "metadata": {
        "id": "BU45ffQJJpT1"
      },
      "source": [
        "Real life images may not be all of same size. So lets make them of same size"
      ]
    },
    {
      "cell_type": "code",
      "metadata": {
        "id": "ITsiEYimOCff"
      },
      "source": [
        "dim1 = []\n",
        "dim2 = []\n",
        "i = 0\n",
        "for image_filename in os.listdir(test_path + 'healthy'):\n",
        "  if(i != 0):\n",
        "    img = imread(test_path + '/healthy/' + image_filename)\n",
        "    # print(img.shape)\n",
        "    d1, d2,color = img.shape\n",
        "    dim1.append(d1)\n",
        "    dim2.append(d2)\n",
        "  i = i + 1"
      ],
      "execution_count": null,
      "outputs": []
    },
    {
      "cell_type": "code",
      "metadata": {
        "id": "jvU7DpobLqKb",
        "colab": {
          "base_uri": "https://localhost:8080/"
        },
        "outputId": "7ed899bb-5cf1-4d41-90a0-f0aa6d35c2ef"
      },
      "source": [
        "dim1 "
      ],
      "execution_count": null,
      "outputs": [
        {
          "output_type": "execute_result",
          "data": {
            "text/plain": [
              "[240, 240, 240, 240, 240, 240, 240, 240, 240, 240, 240, 240, 240, 240, 240]"
            ]
          },
          "metadata": {},
          "execution_count": 56
        }
      ]
    },
    {
      "cell_type": "code",
      "metadata": {
        "id": "LMIWRSlzLsTM",
        "colab": {
          "base_uri": "https://localhost:8080/"
        },
        "outputId": "e28b803d-85b6-4b4c-f4ea-77d06a1063f5"
      },
      "source": [
        "dim2"
      ],
      "execution_count": null,
      "outputs": [
        {
          "output_type": "execute_result",
          "data": {
            "text/plain": [
              "[240, 240, 240, 240, 240, 240, 240, 240, 240, 240, 240, 240, 240, 240, 240]"
            ]
          },
          "metadata": {},
          "execution_count": 57
        }
      ]
    },
    {
      "cell_type": "code",
      "metadata": {
        "id": "T9pnpUjkLtt-",
        "colab": {
          "base_uri": "https://localhost:8080/"
        },
        "outputId": "845a734f-d32f-4dd7-b41e-43ac5437533b"
      },
      "source": [
        "np.mean(dim1)"
      ],
      "execution_count": null,
      "outputs": [
        {
          "output_type": "execute_result",
          "data": {
            "text/plain": [
              "240.0"
            ]
          },
          "metadata": {},
          "execution_count": 58
        }
      ]
    },
    {
      "cell_type": "code",
      "metadata": {
        "id": "3p7_dqsjLxbj",
        "colab": {
          "base_uri": "https://localhost:8080/"
        },
        "outputId": "12f57caf-ff3d-470d-9c58-4b7f8148abc7"
      },
      "source": [
        "np.mean(dim2) "
      ],
      "execution_count": null,
      "outputs": [
        {
          "output_type": "execute_result",
          "data": {
            "text/plain": [
              "240.0"
            ]
          },
          "metadata": {},
          "execution_count": 59
        }
      ]
    },
    {
      "cell_type": "code",
      "metadata": {
        "id": "cjbeteWAL0iK"
      },
      "source": [
        "image_shape = (240, 240, 3)"
      ],
      "execution_count": null,
      "outputs": []
    },
    {
      "cell_type": "markdown",
      "metadata": {
        "id": "r8cvVqkIPVkj"
      },
      "source": [
        "Now we'll later use this image_size to reshape our image. Now lets focus on improving our image, like flipping it, rotating it so that a model is able to understand a 'cell' in a better way"
      ]
    },
    {
      "cell_type": "code",
      "metadata": {
        "id": "xOhbv93mL352",
        "colab": {
          "base_uri": "https://localhost:8080/"
        },
        "outputId": "8a0a034f-a1e4-451d-b0eb-1c891145b2f2"
      },
      "source": [
        "130*130*3"
      ],
      "execution_count": null,
      "outputs": [
        {
          "output_type": "execute_result",
          "data": {
            "text/plain": [
              "50700"
            ]
          },
          "metadata": {},
          "execution_count": 61
        }
      ]
    },
    {
      "cell_type": "code",
      "metadata": {
        "id": "ZPCS-YPWME2U"
      },
      "source": [
        "from tensorflow.keras.preprocessing.image import ImageDataGenerator"
      ],
      "execution_count": null,
      "outputs": []
    },
    {
      "cell_type": "code",
      "metadata": {
        "id": "DEFrqG_SOxsq",
        "colab": {
          "base_uri": "https://localhost:8080/"
        },
        "outputId": "8d38bc09-55b1-46f8-b77d-ee6a6099951b"
      },
      "source": [
        "imread(para_cell).max()"
      ],
      "execution_count": null,
      "outputs": [
        {
          "output_type": "execute_result",
          "data": {
            "text/plain": [
              "255"
            ]
          },
          "metadata": {},
          "execution_count": 63
        }
      ]
    },
    {
      "cell_type": "code",
      "metadata": {
        "id": "74eBrmvAMmRX"
      },
      "source": [
        "# Choose carefully here we have  acell thus makes sense to use rotation, wont make sense if we had to detect a face\n",
        "image_gen = ImageDataGenerator(rotation_range=20,\n",
        "                               width_shift_range = 0.1,\n",
        "                               height_shift_range = 0.1,                             \n",
        "                               shear_range = 0.1,\n",
        "                               zoom_range = 0.1,\n",
        "                               horizontal_flip = True,\n",
        "                               fill_mode = 'nearest'\n",
        "                               ) # rescale = 1/255, but in our case it already b/w 0-1"
      ],
      "execution_count": null,
      "outputs": []
    },
    {
      "cell_type": "code",
      "metadata": {
        "id": "8sI_fwlkPOJF",
        "colab": {
          "base_uri": "https://localhost:8080/",
          "height": 286
        },
        "outputId": "4e01c229-330d-4b96-8d50-fe79450920ee"
      },
      "source": [
        "para_image = imread(para_cell)\n",
        "plt.imshow(para_image)"
      ],
      "execution_count": null,
      "outputs": [
        {
          "output_type": "execute_result",
          "data": {
            "text/plain": [
              "<matplotlib.image.AxesImage at 0x7faa33583e90>"
            ]
          },
          "metadata": {},
          "execution_count": 65
        },
        {
          "output_type": "display_data",
          "data": {
            "image/png": "[encoded data removed]",
            "text/plain": [
              "<Figure size 432x288 with 1 Axes>"
            ]
          },
          "metadata": {
            "needs_background": "light"
          }
        }
      ]
    },
    {
      "cell_type": "code",
      "metadata": {
        "id": "kewXQNKyP35F",
        "colab": {
          "base_uri": "https://localhost:8080/",
          "height": 286
        },
        "outputId": "2a7f0140-9afc-4f0c-efb3-1460440a92ff"
      },
      "source": [
        "# Modified image\n",
        "plt.imshow(image_gen.random_transform(para_image))"
      ],
      "execution_count": null,
      "outputs": [
        {
          "output_type": "execute_result",
          "data": {
            "text/plain": [
              "<matplotlib.image.AxesImage at 0x7faa33562ed0>"
            ]
          },
          "metadata": {},
          "execution_count": 66
        },
        {
          "output_type": "display_data",
          "data": {
            "image/png": "[encoded data removed]",
            "text/plain": [
              "<Figure size 432x288 with 1 Axes>"
            ]
          },
          "metadata": {
            "needs_background": "light"
          }
        }
      ]
    },
    {
      "cell_type": "code",
      "metadata": {
        "id": "4ecT0F0dQEHB",
        "colab": {
          "base_uri": "https://localhost:8080/"
        },
        "outputId": "b2eb0cf1-f4c8-489b-f62f-900761c54af7"
      },
      "source": [
        "image_gen.flow_from_directory(train_path)"
      ],
      "execution_count": null,
      "outputs": [
        {
          "output_type": "stream",
          "name": "stdout",
          "text": [
            "Found 72 images belonging to 2 classes.\n"
          ]
        },
        {
          "output_type": "execute_result",
          "data": {
            "text/plain": [
              "<keras.preprocessing.image.DirectoryIterator at 0x7faa334a4110>"
            ]
          },
          "metadata": {},
          "execution_count": 67
        }
      ]
    },
    {
      "cell_type": "code",
      "metadata": {
        "id": "6vACLnwfRHM1",
        "colab": {
          "base_uri": "https://localhost:8080/"
        },
        "outputId": "b0b06b1e-48f4-4bdd-b26a-f9643fb2a663"
      },
      "source": [
        "image_gen.flow_from_directory(test_path)"
      ],
      "execution_count": null,
      "outputs": [
        {
          "output_type": "stream",
          "name": "stdout",
          "text": [
            "Found 33 images belonging to 2 classes.\n"
          ]
        },
        {
          "output_type": "execute_result",
          "data": {
            "text/plain": [
              "<keras.preprocessing.image.DirectoryIterator at 0x7faa33513110>"
            ]
          },
          "metadata": {},
          "execution_count": 68
        }
      ]
    },
    {
      "cell_type": "code",
      "metadata": {
        "id": "Z4I748hoRJW0"
      },
      "source": [
        "from tensorflow.keras.models import Sequential\n",
        "from tensorflow.keras.layers import Dense, MaxPool2D, Conv2D, Dropout, Flatten"
      ],
      "execution_count": 78,
      "outputs": []
    },
    {
      "cell_type": "code",
      "metadata": {
        "id": "R5FQVdsgRlMB"
      },
      "source": [
        "model = Sequential()\n",
        "\n",
        "# 1 \n",
        "model.add(Conv2D(filters=16, kernel_size=(3, 3), \n",
        "                 input_shape = image_shape, # Resize all image to same size\n",
        "                 activation = 'relu'))\n",
        "\n",
        "model.add(MaxPool2D(pool_size=(2, 2)))\n",
        "\n",
        "# 2\n",
        "model.add(Conv2D(filters=32, kernel_size=(3, 3), \n",
        "                 input_shape = image_shape, # Resize all image to same size\n",
        "                 activation = 'relu'))\n",
        "\n",
        "model.add(MaxPool2D(pool_size=(2, 2)))\n",
        "\n",
        "# 3\n",
        "model.add(Conv2D(filters=64, kernel_size=(3, 3), \n",
        "                 input_shape = image_shape, # Resize all image to same size\n",
        "                 activation = 'relu'))\n",
        "\n",
        "model.add(MaxPool2D(pool_size=(2, 2)))\n",
        "\n",
        "# 4\n",
        "model.add(Conv2D(filters=64, kernel_size=(3, 3), \n",
        "                 input_shape = image_shape, # Resize all image to same size\n",
        "                 activation = 'relu'))\n",
        "\n",
        "model.add(MaxPool2D(pool_size=(2, 2)))\n",
        "\n",
        "# 5\n",
        "model.add(Conv2D(filters=64, kernel_size=(3, 3), \n",
        "                 input_shape = image_shape, # Resize all image to same size\n",
        "                 activation = 'relu'))\n",
        "\n",
        "model.add(MaxPool2D(pool_size=(2, 2)))\n",
        "\n",
        "model.add(Flatten())\n",
        "\n",
        "model.add(Dense(512, activation='relu'))\n",
        "\n",
        "model.add(Dense(1, activation='sigmoid'))\n",
        "\n",
        "model.compile(loss = 'binary_crossentropy', metrics = ['accuracy'], optimizer = 'adam')\n"
      ],
      "execution_count": 79,
      "outputs": []
    },
    {
      "cell_type": "code",
      "metadata": {
        "id": "3TXfbZr7SyWx",
        "colab": {
          "base_uri": "https://localhost:8080/"
        },
        "outputId": "52552a62-5a37-42f7-9a80-5e9ef3999d99"
      },
      "source": [
        "model.summary()"
      ],
      "execution_count": 80,
      "outputs": [
        {
          "output_type": "stream",
          "name": "stdout",
          "text": [
            "Model: \"sequential_2\"\n",
            "_________________________________________________________________\n",
            "Layer (type)                 Output Shape              Param #   \n",
            "=================================================================\n",
            "conv2d_10 (Conv2D)           (None, 238, 238, 16)      448       \n",
            "_________________________________________________________________\n",
            "max_pooling2d_10 (MaxPooling (None, 119, 119, 16)      0         \n",
            "_________________________________________________________________\n",
            "conv2d_11 (Conv2D)           (None, 117, 117, 32)      4640      \n",
            "_________________________________________________________________\n",
            "max_pooling2d_11 (MaxPooling (None, 58, 58, 32)        0         \n",
            "_________________________________________________________________\n",
            "conv2d_12 (Conv2D)           (None, 56, 56, 64)        18496     \n",
            "_________________________________________________________________\n",
            "max_pooling2d_12 (MaxPooling (None, 28, 28, 64)        0         \n",
            "_________________________________________________________________\n",
            "conv2d_13 (Conv2D)           (None, 26, 26, 64)        36928     \n",
            "_________________________________________________________________\n",
            "max_pooling2d_13 (MaxPooling (None, 13, 13, 64)        0         \n",
            "_________________________________________________________________\n",
            "conv2d_14 (Conv2D)           (None, 11, 11, 64)        36928     \n",
            "_________________________________________________________________\n",
            "max_pooling2d_14 (MaxPooling (None, 5, 5, 64)          0         \n",
            "_________________________________________________________________\n",
            "flatten_2 (Flatten)          (None, 1600)              0         \n",
            "_________________________________________________________________\n",
            "dense_4 (Dense)              (None, 512)               819712    \n",
            "_________________________________________________________________\n",
            "dense_5 (Dense)              (None, 1)                 513       \n",
            "=================================================================\n",
            "Total params: 917,665\n",
            "Trainable params: 917,665\n",
            "Non-trainable params: 0\n",
            "_________________________________________________________________\n"
          ]
        }
      ]
    },
    {
      "cell_type": "code",
      "metadata": {
        "id": "jwENONb_S636"
      },
      "source": [
        "from tensorflow.keras.callbacks import EarlyStopping\n",
        "early_stop = EarlyStopping(monitor = 'val_loss', patience = 20)"
      ],
      "execution_count": 82,
      "outputs": []
    },
    {
      "cell_type": "markdown",
      "metadata": {
        "id": "2HlDonZ_TKyy"
      },
      "source": [
        "As our data is too large and image size is also too large we create batches"
      ]
    },
    {
      "cell_type": "code",
      "metadata": {
        "id": "Yvo1yNFHTFt4"
      },
      "source": [
        "batch_size = 32\n"
      ],
      "execution_count": 83,
      "outputs": []
    },
    {
      "cell_type": "code",
      "metadata": {
        "id": "jhupXVaxTU4c",
        "colab": {
          "base_uri": "https://localhost:8080/"
        },
        "outputId": "fd814bb9-8293-4ddc-d4d4-8eeda6460175"
      },
      "source": [
        "train_image_gen =  image_gen.flow_from_directory(train_path,\n",
        "                                                 target_size = image_shape[:2],\n",
        "                                                 color_mode= 'rgb',\n",
        "                                                 batch_size = batch_size,\n",
        "                                                 class_mode = 'binary') # casue binary classification"
      ],
      "execution_count": 84,
      "outputs": [
        {
          "output_type": "stream",
          "name": "stdout",
          "text": [
            "Found 72 images belonging to 2 classes.\n"
          ]
        }
      ]
    },
    {
      "cell_type": "code",
      "metadata": {
        "id": "fCueTJ8sTyis",
        "colab": {
          "base_uri": "https://localhost:8080/"
        },
        "outputId": "ac6eb5fe-c2e7-4a47-c56e-cff8d4d9c6e7"
      },
      "source": [
        "test_image_gen =  image_gen.flow_from_directory(test_path,\n",
        "                                                 target_size = image_shape[:2],\n",
        "                                                 color_mode= 'rgb',\n",
        "                                                 batch_size = batch_size,\n",
        "                                                 class_mode = 'binary',\n",
        "                                                shuffle = False)\n"
      ],
      "execution_count": 85,
      "outputs": [
        {
          "output_type": "stream",
          "name": "stdout",
          "text": [
            "Found 33 images belonging to 2 classes.\n"
          ]
        }
      ]
    },
    {
      "cell_type": "code",
      "metadata": {
        "id": "_umMWdWaT6fo",
        "colab": {
          "base_uri": "https://localhost:8080/"
        },
        "outputId": "d84b5ef0-fda2-4003-adf7-5194a3eadf41"
      },
      "source": [
        "train_image_gen.class_indices"
      ],
      "execution_count": 86,
      "outputs": [
        {
          "output_type": "execute_result",
          "data": {
            "text/plain": [
              "{'healthy': 0, 'unhealthy': 1}"
            ]
          },
          "metadata": {},
          "execution_count": 86
        }
      ]
    },
    {
      "cell_type": "code",
      "metadata": {
        "id": "oMkZd7dkT-gT",
        "colab": {
          "base_uri": "https://localhost:8080/"
        },
        "outputId": "c50bc8fa-d956-4f2a-b51e-58dbce200f32"
      },
      "source": [
        "results = model.fit(train_image_gen, epochs = 200, \n",
        "                              validation_data = test_image_gen,callbacks=[early_stop])"
      ],
      "execution_count": 87,
      "outputs": [
        {
          "output_type": "stream",
          "name": "stdout",
          "text": [
            "Epoch 1/200\n",
            "3/3 [==============================] - 3s 1s/step - loss: 92.1194 - accuracy: 0.4722 - val_loss: 1.4094 - val_accuracy: 0.0909\n",
            "Epoch 2/200\n",
            "3/3 [==============================] - 2s 768ms/step - loss: 26.3800 - accuracy: 0.4167 - val_loss: 3.2783 - val_accuracy: 0.5152\n",
            "Epoch 3/200\n",
            "3/3 [==============================] - 2s 582ms/step - loss: 4.7655 - accuracy: 0.5833 - val_loss: 3.7040 - val_accuracy: 0.4848\n",
            "Epoch 4/200\n",
            "3/3 [==============================] - 2s 775ms/step - loss: 1.8628 - accuracy: 0.4722 - val_loss: 0.6650 - val_accuracy: 0.6061\n",
            "Epoch 5/200\n",
            "3/3 [==============================] - 2s 579ms/step - loss: 0.7062 - accuracy: 0.6250 - val_loss: 0.6494 - val_accuracy: 0.7273\n",
            "Epoch 6/200\n",
            "3/3 [==============================] - 2s 784ms/step - loss: 0.6795 - accuracy: 0.5694 - val_loss: 0.6257 - val_accuracy: 0.5758\n",
            "Epoch 7/200\n",
            "3/3 [==============================] - 2s 578ms/step - loss: 0.6257 - accuracy: 0.7639 - val_loss: 0.6174 - val_accuracy: 0.6061\n",
            "Epoch 8/200\n",
            "3/3 [==============================] - 2s 585ms/step - loss: 0.6612 - accuracy: 0.5833 - val_loss: 0.7402 - val_accuracy: 0.4848\n",
            "Epoch 9/200\n",
            "3/3 [==============================] - 2s 798ms/step - loss: 0.7034 - accuracy: 0.5417 - val_loss: 0.6232 - val_accuracy: 0.6970\n",
            "Epoch 10/200\n",
            "3/3 [==============================] - 2s 789ms/step - loss: 0.6840 - accuracy: 0.5417 - val_loss: 0.6811 - val_accuracy: 0.4848\n",
            "Epoch 11/200\n",
            "3/3 [==============================] - 2s 808ms/step - loss: 0.6723 - accuracy: 0.5417 - val_loss: 0.5796 - val_accuracy: 0.8485\n",
            "Epoch 12/200\n",
            "3/3 [==============================] - 2s 776ms/step - loss: 0.7438 - accuracy: 0.5000 - val_loss: 0.5548 - val_accuracy: 0.8485\n",
            "Epoch 13/200\n",
            "3/3 [==============================] - 2s 777ms/step - loss: 0.7354 - accuracy: 0.5417 - val_loss: 0.7028 - val_accuracy: 0.5455\n",
            "Epoch 14/200\n",
            "3/3 [==============================] - 2s 781ms/step - loss: 0.5778 - accuracy: 0.6806 - val_loss: 0.6150 - val_accuracy: 0.5455\n",
            "Epoch 15/200\n",
            "3/3 [==============================] - 2s 579ms/step - loss: 0.6115 - accuracy: 0.5000 - val_loss: 0.4893 - val_accuracy: 0.8485\n",
            "Epoch 16/200\n",
            "3/3 [==============================] - 2s 781ms/step - loss: 0.6411 - accuracy: 0.6111 - val_loss: 0.6419 - val_accuracy: 0.6061\n",
            "Epoch 17/200\n",
            "3/3 [==============================] - 2s 558ms/step - loss: 0.6309 - accuracy: 0.6111 - val_loss: 0.4982 - val_accuracy: 0.8788\n",
            "Epoch 18/200\n",
            "3/3 [==============================] - 2s 589ms/step - loss: 0.5649 - accuracy: 0.6667 - val_loss: 0.6072 - val_accuracy: 0.5455\n",
            "Epoch 19/200\n",
            "3/3 [==============================] - 2s 593ms/step - loss: 0.5436 - accuracy: 0.7778 - val_loss: 0.5185 - val_accuracy: 0.7273\n",
            "Epoch 20/200\n",
            "3/3 [==============================] - 2s 572ms/step - loss: 0.5802 - accuracy: 0.7222 - val_loss: 0.5794 - val_accuracy: 0.8485\n",
            "Epoch 21/200\n",
            "3/3 [==============================] - 2s 770ms/step - loss: 0.6006 - accuracy: 0.6528 - val_loss: 0.5363 - val_accuracy: 0.8485\n",
            "Epoch 22/200\n",
            "3/3 [==============================] - 2s 591ms/step - loss: 0.6223 - accuracy: 0.6806 - val_loss: 0.4867 - val_accuracy: 0.6061\n",
            "Epoch 23/200\n",
            "3/3 [==============================] - 2s 546ms/step - loss: 0.5425 - accuracy: 0.7361 - val_loss: 0.4659 - val_accuracy: 0.7879\n",
            "Epoch 24/200\n",
            "3/3 [==============================] - 2s 579ms/step - loss: 0.5231 - accuracy: 0.7917 - val_loss: 0.4224 - val_accuracy: 0.8788\n",
            "Epoch 25/200\n",
            "3/3 [==============================] - 2s 569ms/step - loss: 0.4878 - accuracy: 0.7778 - val_loss: 0.3726 - val_accuracy: 0.8485\n",
            "Epoch 26/200\n",
            "3/3 [==============================] - 2s 561ms/step - loss: 0.4972 - accuracy: 0.8194 - val_loss: 0.4334 - val_accuracy: 0.8485\n",
            "Epoch 27/200\n",
            "3/3 [==============================] - 2s 550ms/step - loss: 0.5114 - accuracy: 0.7083 - val_loss: 0.4082 - val_accuracy: 0.8182\n",
            "Epoch 28/200\n",
            "3/3 [==============================] - 2s 572ms/step - loss: 0.6544 - accuracy: 0.6389 - val_loss: 0.4698 - val_accuracy: 0.7273\n",
            "Epoch 29/200\n",
            "3/3 [==============================] - 2s 571ms/step - loss: 0.4467 - accuracy: 0.7500 - val_loss: 0.4682 - val_accuracy: 0.8182\n",
            "Epoch 30/200\n",
            "3/3 [==============================] - 2s 561ms/step - loss: 0.4832 - accuracy: 0.7361 - val_loss: 0.5799 - val_accuracy: 0.6667\n",
            "Epoch 31/200\n",
            "3/3 [==============================] - 2s 759ms/step - loss: 0.3896 - accuracy: 0.8611 - val_loss: 0.5964 - val_accuracy: 0.6970\n",
            "Epoch 32/200\n",
            "3/3 [==============================] - 2s 556ms/step - loss: 0.5259 - accuracy: 0.7083 - val_loss: 0.5053 - val_accuracy: 0.7576\n",
            "Epoch 33/200\n",
            "3/3 [==============================] - 2s 761ms/step - loss: 0.4504 - accuracy: 0.7917 - val_loss: 0.6394 - val_accuracy: 0.6667\n",
            "Epoch 34/200\n",
            "3/3 [==============================] - 2s 563ms/step - loss: 0.3722 - accuracy: 0.8194 - val_loss: 0.5121 - val_accuracy: 0.6970\n",
            "Epoch 35/200\n",
            "3/3 [==============================] - 2s 762ms/step - loss: 0.4760 - accuracy: 0.8611 - val_loss: 0.4943 - val_accuracy: 0.7273\n",
            "Epoch 36/200\n",
            "3/3 [==============================] - 2s 772ms/step - loss: 0.4328 - accuracy: 0.8333 - val_loss: 0.7044 - val_accuracy: 0.7576\n",
            "Epoch 37/200\n",
            "3/3 [==============================] - 2s 556ms/step - loss: 0.4430 - accuracy: 0.7917 - val_loss: 0.3390 - val_accuracy: 0.8182\n",
            "Epoch 38/200\n",
            "3/3 [==============================] - 2s 756ms/step - loss: 0.5060 - accuracy: 0.7222 - val_loss: 0.4751 - val_accuracy: 0.7576\n",
            "Epoch 39/200\n",
            "3/3 [==============================] - 2s 565ms/step - loss: 0.4212 - accuracy: 0.8194 - val_loss: 0.5374 - val_accuracy: 0.6364\n",
            "Epoch 40/200\n",
            "3/3 [==============================] - 2s 742ms/step - loss: 0.4892 - accuracy: 0.8194 - val_loss: 0.6254 - val_accuracy: 0.6667\n",
            "Epoch 41/200\n",
            "3/3 [==============================] - 2s 587ms/step - loss: 0.4249 - accuracy: 0.8194 - val_loss: 0.6459 - val_accuracy: 0.6667\n",
            "Epoch 42/200\n",
            "3/3 [==============================] - 2s 562ms/step - loss: 0.4548 - accuracy: 0.7917 - val_loss: 0.4086 - val_accuracy: 0.7879\n",
            "Epoch 43/200\n",
            "3/3 [==============================] - 2s 763ms/step - loss: 0.4451 - accuracy: 0.7917 - val_loss: 0.5358 - val_accuracy: 0.7576\n",
            "Epoch 44/200\n",
            "3/3 [==============================] - 2s 552ms/step - loss: 0.4317 - accuracy: 0.8333 - val_loss: 0.4600 - val_accuracy: 0.7273\n",
            "Epoch 45/200\n",
            "3/3 [==============================] - 2s 550ms/step - loss: 0.4096 - accuracy: 0.8194 - val_loss: 0.3224 - val_accuracy: 0.8788\n",
            "Epoch 46/200\n",
            "3/3 [==============================] - 2s 753ms/step - loss: 0.3744 - accuracy: 0.8333 - val_loss: 0.2711 - val_accuracy: 0.9091\n",
            "Epoch 47/200\n",
            "3/3 [==============================] - 2s 564ms/step - loss: 0.3599 - accuracy: 0.8194 - val_loss: 0.4449 - val_accuracy: 0.7879\n",
            "Epoch 48/200\n",
            "3/3 [==============================] - 2s 552ms/step - loss: 0.4149 - accuracy: 0.7917 - val_loss: 0.3986 - val_accuracy: 0.8485\n",
            "Epoch 49/200\n",
            "3/3 [==============================] - 2s 750ms/step - loss: 0.3474 - accuracy: 0.8194 - val_loss: 0.4447 - val_accuracy: 0.8485\n",
            "Epoch 50/200\n",
            "3/3 [==============================] - 2s 568ms/step - loss: 0.2991 - accuracy: 0.8750 - val_loss: 0.4251 - val_accuracy: 0.7879\n",
            "Epoch 51/200\n",
            "3/3 [==============================] - 2s 757ms/step - loss: 0.3003 - accuracy: 0.8472 - val_loss: 0.2375 - val_accuracy: 0.9394\n",
            "Epoch 52/200\n",
            "3/3 [==============================] - 2s 556ms/step - loss: 0.2992 - accuracy: 0.8611 - val_loss: 0.2043 - val_accuracy: 0.9394\n",
            "Epoch 53/200\n",
            "3/3 [==============================] - 2s 556ms/step - loss: 0.3690 - accuracy: 0.8194 - val_loss: 0.4408 - val_accuracy: 0.8182\n",
            "Epoch 54/200\n",
            "3/3 [==============================] - 2s 570ms/step - loss: 0.3797 - accuracy: 0.8472 - val_loss: 0.5678 - val_accuracy: 0.7273\n",
            "Epoch 55/200\n",
            "3/3 [==============================] - 2s 564ms/step - loss: 0.3548 - accuracy: 0.8889 - val_loss: 0.7558 - val_accuracy: 0.5758\n",
            "Epoch 56/200\n",
            "3/3 [==============================] - 2s 571ms/step - loss: 0.4645 - accuracy: 0.7917 - val_loss: 0.6995 - val_accuracy: 0.6061\n",
            "Epoch 57/200\n",
            "3/3 [==============================] - 2s 568ms/step - loss: 0.4268 - accuracy: 0.8056 - val_loss: 0.6510 - val_accuracy: 0.6667\n",
            "Epoch 58/200\n",
            "3/3 [==============================] - 2s 554ms/step - loss: 0.3095 - accuracy: 0.8750 - val_loss: 0.8710 - val_accuracy: 0.5758\n",
            "Epoch 59/200\n",
            "3/3 [==============================] - 2s 764ms/step - loss: 0.3777 - accuracy: 0.8472 - val_loss: 0.5279 - val_accuracy: 0.7576\n",
            "Epoch 60/200\n",
            "3/3 [==============================] - 2s 570ms/step - loss: 0.3347 - accuracy: 0.8611 - val_loss: 0.4437 - val_accuracy: 0.8182\n",
            "Epoch 61/200\n",
            "3/3 [==============================] - 2s 580ms/step - loss: 0.2217 - accuracy: 0.9028 - val_loss: 0.4807 - val_accuracy: 0.8182\n",
            "Epoch 62/200\n",
            "3/3 [==============================] - 2s 575ms/step - loss: 0.2314 - accuracy: 0.9028 - val_loss: 0.6596 - val_accuracy: 0.7273\n",
            "Epoch 63/200\n",
            "3/3 [==============================] - 2s 567ms/step - loss: 0.3848 - accuracy: 0.8611 - val_loss: 0.7219 - val_accuracy: 0.7879\n",
            "Epoch 64/200\n",
            "3/3 [==============================] - 2s 552ms/step - loss: 0.2857 - accuracy: 0.8611 - val_loss: 0.4149 - val_accuracy: 0.8485\n",
            "Epoch 65/200\n",
            "3/3 [==============================] - 2s 763ms/step - loss: 0.3199 - accuracy: 0.8333 - val_loss: 0.9178 - val_accuracy: 0.6667\n",
            "Epoch 66/200\n",
            "3/3 [==============================] - 2s 547ms/step - loss: 0.2781 - accuracy: 0.8750 - val_loss: 0.3737 - val_accuracy: 0.8485\n",
            "Epoch 67/200\n",
            "3/3 [==============================] - 2s 561ms/step - loss: 0.2867 - accuracy: 0.8750 - val_loss: 0.5573 - val_accuracy: 0.6970\n",
            "Epoch 68/200\n",
            "3/3 [==============================] - 2s 749ms/step - loss: 0.3032 - accuracy: 0.8889 - val_loss: 0.4245 - val_accuracy: 0.7879\n",
            "Epoch 69/200\n",
            "3/3 [==============================] - 2s 573ms/step - loss: 0.2685 - accuracy: 0.9028 - val_loss: 0.5285 - val_accuracy: 0.6970\n",
            "Epoch 70/200\n",
            "3/3 [==============================] - 2s 569ms/step - loss: 0.3060 - accuracy: 0.8611 - val_loss: 0.5123 - val_accuracy: 0.8182\n",
            "Epoch 71/200\n",
            "3/3 [==============================] - 2s 545ms/step - loss: 0.2478 - accuracy: 0.9167 - val_loss: 0.3545 - val_accuracy: 0.7879\n",
            "Epoch 72/200\n",
            "3/3 [==============================] - 2s 556ms/step - loss: 0.2340 - accuracy: 0.9167 - val_loss: 0.2666 - val_accuracy: 0.8788\n"
          ]
        }
      ]
    },
    {
      "cell_type": "code",
      "metadata": {
        "colab": {
          "base_uri": "https://localhost:8080/",
          "height": 282
        },
        "id": "6He-lRDjuqPd",
        "outputId": "0c3b7794-26c4-4448-c865-38dc095bab18"
      },
      "source": [
        "import matplotlib.pyplot as plt\n",
        "\n",
        "plt.ylabel('Accuracy')\n",
        "plt.plot(results.history['accuracy'], color = 'blue', label='Training Accuracy')"
      ],
      "execution_count": 88,
      "outputs": [
        {
          "output_type": "execute_result",
          "data": {
            "text/plain": [
              "[<matplotlib.lines.Line2D at 0x7fa9b7053c50>]"
            ]
          },
          "metadata": {},
          "execution_count": 88
        },
        {
          "output_type": "display_data",
          "data": {
            "image/png": "[encoded data removed]",
            "text/plain": [
              "<Figure size 432x288 with 1 Axes>"
            ]
          },
          "metadata": {
            "needs_background": "light"
          }
        }
      ]
    },
    {
      "cell_type": "code",
      "metadata": {
        "id": "wN4mOqwlGIjL"
      },
      "source": [
        "model.save(\"/content/drive/My Drive/alzheimer_classification/best_model.h5\" )"
      ],
      "execution_count": 89,
      "outputs": []
    },
    {
      "cell_type": "code",
      "metadata": {
        "id": "2rpefA0xUP2v"
      },
      "source": [
        "from tensorflow.keras.models import load_model"
      ],
      "execution_count": 90,
      "outputs": []
    },
    {
      "cell_type": "code",
      "metadata": {
        "id": "OAsvhRQfU6sw"
      },
      "source": [
        "model = load_model(\"/content/drive/My Drive/alzheimer_classification/best_model.h5\")"
      ],
      "execution_count": 91,
      "outputs": []
    },
    {
      "cell_type": "code",
      "metadata": {
        "id": "UBE0KE8MVgeC",
        "colab": {
          "base_uri": "https://localhost:8080/"
        },
        "outputId": "bfe49d3c-445f-44fb-82bc-667c03084a00"
      },
      "source": [
        "model.summary()"
      ],
      "execution_count": 92,
      "outputs": [
        {
          "output_type": "stream",
          "name": "stdout",
          "text": [
            "Model: \"sequential_2\"\n",
            "_________________________________________________________________\n",
            "Layer (type)                 Output Shape              Param #   \n",
            "=================================================================\n",
            "conv2d_10 (Conv2D)           (None, 238, 238, 16)      448       \n",
            "_________________________________________________________________\n",
            "max_pooling2d_10 (MaxPooling (None, 119, 119, 16)      0         \n",
            "_________________________________________________________________\n",
            "conv2d_11 (Conv2D)           (None, 117, 117, 32)      4640      \n",
            "_________________________________________________________________\n",
            "max_pooling2d_11 (MaxPooling (None, 58, 58, 32)        0         \n",
            "_________________________________________________________________\n",
            "conv2d_12 (Conv2D)           (None, 56, 56, 64)        18496     \n",
            "_________________________________________________________________\n",
            "max_pooling2d_12 (MaxPooling (None, 28, 28, 64)        0         \n",
            "_________________________________________________________________\n",
            "conv2d_13 (Conv2D)           (None, 26, 26, 64)        36928     \n",
            "_________________________________________________________________\n",
            "max_pooling2d_13 (MaxPooling (None, 13, 13, 64)        0         \n",
            "_________________________________________________________________\n",
            "conv2d_14 (Conv2D)           (None, 11, 11, 64)        36928     \n",
            "_________________________________________________________________\n",
            "max_pooling2d_14 (MaxPooling (None, 5, 5, 64)          0         \n",
            "_________________________________________________________________\n",
            "flatten_2 (Flatten)          (None, 1600)              0         \n",
            "_________________________________________________________________\n",
            "dense_4 (Dense)              (None, 512)               819712    \n",
            "_________________________________________________________________\n",
            "dense_5 (Dense)              (None, 1)                 513       \n",
            "=================================================================\n",
            "Total params: 917,665\n",
            "Trainable params: 917,665\n",
            "Non-trainable params: 0\n",
            "_________________________________________________________________\n"
          ]
        }
      ]
    },
    {
      "cell_type": "code",
      "metadata": {
        "id": "t7U7ua-VVlLS",
        "colab": {
          "base_uri": "https://localhost:8080/"
        },
        "outputId": "8358c1df-f086-4f99-c124-e83a68fdfc2e"
      },
      "source": [
        "model.evaluate(test_image_gen)"
      ],
      "execution_count": 97,
      "outputs": [
        {
          "output_type": "stream",
          "name": "stdout",
          "text": [
            "2/2 [==============================] - 1s 10ms/step - loss: 0.3260 - accuracy: 0.8485\n"
          ]
        },
        {
          "output_type": "execute_result",
          "data": {
            "text/plain": [
              "[0.32595232129096985, 0.8484848737716675]"
            ]
          },
          "metadata": {},
          "execution_count": 97
        }
      ]
    },
    {
      "cell_type": "code",
      "metadata": {
        "id": "ncKPZMpVV108",
        "colab": {
          "base_uri": "https://localhost:8080/"
        },
        "outputId": "9aaba947-7572-4659-921f-1ba973929713"
      },
      "source": [
        "model.metrics_names"
      ],
      "execution_count": 98,
      "outputs": [
        {
          "output_type": "execute_result",
          "data": {
            "text/plain": [
              "['loss', 'accuracy']"
            ]
          },
          "metadata": {},
          "execution_count": 98
        }
      ]
    },
    {
      "cell_type": "code",
      "metadata": {
        "id": "nc937m23rLwy",
        "colab": {
          "base_uri": "https://localhost:8080/"
        },
        "outputId": "dabbd05f-addb-478a-c4cc-3e05fcf7b14d"
      },
      "source": [
        "preds = model.predict_generator(test_image_gen, verbose=1)"
      ],
      "execution_count": 99,
      "outputs": [
        {
          "output_type": "stream",
          "name": "stderr",
          "text": [
            "/usr/local/lib/python3.7/dist-packages/keras/engine/training.py:2035: UserWarning: `Model.predict_generator` is deprecated and will be removed in a future version. Please use `Model.predict`, which supports generators.\n",
            "  warnings.warn('`Model.predict_generator` is deprecated and '\n"
          ]
        },
        {
          "output_type": "stream",
          "name": "stdout",
          "text": [
            "2/2 [==============================] - 1s 22ms/step\n"
          ]
        }
      ]
    },
    {
      "cell_type": "code",
      "metadata": {
        "id": "ieT6sz1WrSBP",
        "colab": {
          "base_uri": "https://localhost:8080/"
        },
        "outputId": "0e4db4b2-9e20-45a1-c24d-16874cf59860"
      },
      "source": [
        "predictions = preds > 0.5\n",
        "predictions"
      ],
      "execution_count": 100,
      "outputs": [
        {
          "output_type": "execute_result",
          "data": {
            "text/plain": [
              "array([[False],\n",
              "       [False],\n",
              "       [False],\n",
              "       [False],\n",
              "       [False],\n",
              "       [False],\n",
              "       [False],\n",
              "       [False],\n",
              "       [False],\n",
              "       [False],\n",
              "       [False],\n",
              "       [False],\n",
              "       [False],\n",
              "       [False],\n",
              "       [False],\n",
              "       [False],\n",
              "       [ True],\n",
              "       [False],\n",
              "       [ True],\n",
              "       [ True],\n",
              "       [ True],\n",
              "       [ True],\n",
              "       [ True],\n",
              "       [ True],\n",
              "       [ True],\n",
              "       [False],\n",
              "       [False],\n",
              "       [False],\n",
              "       [False],\n",
              "       [False],\n",
              "       [ True],\n",
              "       [ True],\n",
              "       [ True]])"
            ]
          },
          "metadata": {},
          "execution_count": 100
        }
      ]
    },
    {
      "cell_type": "code",
      "metadata": {
        "id": "vTbb8ICxrvjK"
      },
      "source": [
        "from sklearn.metrics import classification_report, confusion_matrix"
      ],
      "execution_count": 101,
      "outputs": []
    },
    {
      "cell_type": "code",
      "metadata": {
        "id": "n2BvEJiKsYbb"
      },
      "source": [
        "y_true = test_image_gen.classes"
      ],
      "execution_count": 102,
      "outputs": []
    },
    {
      "cell_type": "code",
      "metadata": {
        "id": "wDBhL9QrsSXf",
        "colab": {
          "base_uri": "https://localhost:8080/"
        },
        "outputId": "db7e9145-53f2-4f3c-e868-8437649f8c35"
      },
      "source": [
        "print(classification_report(y_true, predictions))"
      ],
      "execution_count": 103,
      "outputs": [
        {
          "output_type": "stream",
          "name": "stdout",
          "text": [
            "              precision    recall  f1-score   support\n",
            "\n",
            "           0       0.73      1.00      0.84        16\n",
            "           1       1.00      0.65      0.79        17\n",
            "\n",
            "    accuracy                           0.82        33\n",
            "   macro avg       0.86      0.82      0.81        33\n",
            "weighted avg       0.87      0.82      0.81        33\n",
            "\n"
          ]
        }
      ]
    },
    {
      "cell_type": "code",
      "metadata": {
        "id": "3XDm2gGVuVH5"
      },
      "source": [
        ""
      ],
      "execution_count": 103,
      "outputs": []
    },
    {
      "cell_type": "markdown",
      "metadata": {
        "id": "kpgimv7buVzA"
      },
      "source": [
        "Personal Images"
      ]
    },
    {
      "cell_type": "code",
      "metadata": {
        "id": "wDkqrURhsdX0",
        "colab": {
          "base_uri": "https://localhost:8080/",
          "height": 35
        },
        "outputId": "002fa339-91c1-416e-8933-fd0f85af9747"
      },
      "source": [
        "para_cell"
      ],
      "execution_count": 119,
      "outputs": [
        {
          "output_type": "execute_result",
          "data": {
            "application/vnd.google.colaboratory.intrinsic+json": {
              "type": "string"
            },
            "text/plain": [
              "'/content/drive/My Drive/alzheimer_classification/training//healthy/healthy_07.jpg'"
            ]
          },
          "metadata": {},
          "execution_count": 119
        }
      ]
    },
    {
      "cell_type": "code",
      "metadata": {
        "id": "6pHccACztvud"
      },
      "source": [
        "from tensorflow.keras.preprocessing import image"
      ],
      "execution_count": 120,
      "outputs": []
    },
    {
      "cell_type": "code",
      "metadata": {
        "id": "3X2bhfLXt2yf"
      },
      "source": [
        "my_image = image.load_img(para_cell,\n",
        "               target_size = (240, 240))"
      ],
      "execution_count": 121,
      "outputs": []
    },
    {
      "cell_type": "code",
      "metadata": {
        "id": "gBmCL45QuBYH",
        "colab": {
          "base_uri": "https://localhost:8080/",
          "height": 257
        },
        "outputId": "717eafea-9f2a-4334-f347-5ffa930b5718"
      },
      "source": [
        "my_image"
      ],
      "execution_count": 122,
      "outputs": [
        {
          "output_type": "execute_result",
          "data": {
            "image/png": "[encoded data removed]",
            "text/plain": [
              "<PIL.Image.Image image mode=RGB size=240x240 at 0x7FA9BD25C550>"
            ]
          },
          "metadata": {},
          "execution_count": 122
        }
      ]
    },
    {
      "cell_type": "code",
      "metadata": {
        "id": "xBJoO-hduC0z"
      },
      "source": [
        "my_image_array = image.img_to_array(my_image)"
      ],
      "execution_count": 123,
      "outputs": []
    },
    {
      "cell_type": "code",
      "metadata": {
        "id": "2Tni_p31uOzD",
        "colab": {
          "base_uri": "https://localhost:8080/"
        },
        "outputId": "b15a0cd0-6757-41ed-cd8c-527a4945e22e"
      },
      "source": [
        "my_image_array.shape # We want (1, 130, 130, 3)"
      ],
      "execution_count": 124,
      "outputs": [
        {
          "output_type": "execute_result",
          "data": {
            "text/plain": [
              "(240, 240, 3)"
            ]
          },
          "metadata": {},
          "execution_count": 124
        }
      ]
    },
    {
      "cell_type": "code",
      "metadata": {
        "id": "kr-cRCoHuS5K"
      },
      "source": [
        "my_image_array = np.expand_dims(my_image_array, axis = 0)"
      ],
      "execution_count": 125,
      "outputs": []
    },
    {
      "cell_type": "code",
      "metadata": {
        "id": "iQIEqDwYulgL",
        "colab": {
          "base_uri": "https://localhost:8080/"
        },
        "outputId": "0aca1adb-6952-47c6-f003-61c3bd62363e"
      },
      "source": [
        "my_image_array.shape"
      ],
      "execution_count": 126,
      "outputs": [
        {
          "output_type": "execute_result",
          "data": {
            "text/plain": [
              "(1, 240, 240, 3)"
            ]
          },
          "metadata": {},
          "execution_count": 126
        }
      ]
    },
    {
      "cell_type": "code",
      "metadata": {
        "id": "IU0BS8Ieunus",
        "colab": {
          "base_uri": "https://localhost:8080/"
        },
        "outputId": "f72fb070-27da-4416-f6ec-1d824daa0348"
      },
      "source": [
        "if(model.predict(my_image_array)[0][0] > 0.5):\n",
        "  print(\"Unhealthy\")\n",
        "else:\n",
        "  print(\"healthy\")"
      ],
      "execution_count": 127,
      "outputs": [
        {
          "output_type": "stream",
          "name": "stdout",
          "text": [
            "healthy\n"
          ]
        }
      ]
    },
    {
      "cell_type": "code",
      "metadata": {
        "id": "WY-RNAWuIx_V"
      },
      "source": [
        ""
      ],
      "execution_count": null,
      "outputs": []
    }
  ]
}